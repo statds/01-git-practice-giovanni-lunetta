{
  "cells": [
    {
      "cell_type": "raw",
      "id": "354907b7",
      "metadata": {},
      "source": [
        "---\n",
        "title: Homework 1\n",
        "author: Giovanni Lunetta\n",
        "date: 'January 30, 2023'\n",
        "format:\n",
        "  html:\n",
        "    code-fold: true\n",
        "  pdf:\n",
        "    geometry:\n",
        "      - top=30mm\n",
        "      - left=20mm\n",
        "---"
      ]
    },
    {
      "cell_type": "markdown",
      "id": "00827a9f",
      "metadata": {},
      "source": [
        "# Exercise 3\n",
        "Monty Hall problem through simulation.\n"
      ]
    },
    {
      "cell_type": "code",
      "execution_count": 6,
      "id": "07162770",
      "metadata": {},
      "outputs": [
        {
          "name": "stdout",
          "output_type": "stream",
          "text": [
            "When there are three doors, switching the door is the correct choice 66.10000000000001\n",
            "percent of the time and the wrong choice 33.89999999999999 percent of the time.\n",
            "\n",
            "When there are five doors, switching the door is the correct choice 80.9\n",
            "percent of the time and the wrong choice 19.099999999999994 percent of the time.\n"
          ]
        }
      ],
      "source": [
        "# allows us to generate random numbers and make random selections\n",
        "import random\n",
        "\n",
        "# defines a function called monty_hall which takes two\n",
        "# arguments. ndoors represents the number of doors in the\n",
        "# experiment while ntrials represents the number of trials\n",
        "# in the simulation.\n",
        "def monty_hall(ndoors, ntrials):\n",
        "    \n",
        "    # initialze two variables to keep track of the number of wins\n",
        "    switch_wins = 0\n",
        "    no_switch_wins = 0\n",
        "    \n",
        "    # this for loop runs for ntrials\n",
        "    for i in range(ntrials):\n",
        "\n",
        "        # creates a list containing ndoors from 0 to ndoors-1 doors\n",
        "        doors = [i for i in range(ndoors)]\n",
        "\n",
        "        # randomly chooses one of these ndoors and assigns it to car\n",
        "        # this variable will represent the door with the car behind it\n",
        "        car = random.choice(doors)\n",
        "\n",
        "        # randomly chooses one of these ndoors and assigns it to choice \n",
        "        # this variable will represent the door that the contestant initially \n",
        "        # chooses\n",
        "        choice = random.choice(doors)\n",
        "\n",
        "        # checks if the door the contestant initially chose is the door with the\n",
        "        # car behind it. If it is, the no-switch strategy wins, otherwise the \n",
        "        # switch strategy wins\n",
        "        if choice == car:\n",
        "            no_switch_wins += 1\n",
        "        else:\n",
        "            switch_wins += 1\n",
        "    \n",
        "    # returns the proportion of wins for switch\n",
        "    return switch_wins/ntrials\n",
        "\n",
        "# stores the percentages in two different variables\n",
        "win3 = monty_hall(3, 1000)*100\n",
        "win5 = monty_hall(5, 1000)*100\n",
        "\n",
        "print(\"When there are three doors, switching the door is the correct choice\", win3)\n",
        "print(\"percent of the time and the wrong choice\", 100-win3, \"percent of the time.\\n\")\n",
        "print(\"When there are five doors, switching the door is the correct choice\", win5)\n",
        "print(\"percent of the time and the wrong choice\", 100-win5, \"percent of the time.\")"
      ]
    },
    {
      "cell_type": "markdown",
      "id": "f668428c",
      "metadata": {},
      "source": [
        "# Exercise 4\n",
        "Monte Carlo approximation of pi."
      ]
    },
    {
      "cell_type": "code",
      "execution_count": 7,
      "id": "f9c9e569",
      "metadata": {},
      "outputs": [
        {
          "name": "stdout",
          "output_type": "stream",
          "text": [
            "Displayed is the estimate, followed by the 95% confidence interval\n",
            "with a sample size of 1000: (3.128, (3.0768179483959464, 3.179182051604054))\n",
            "Displayed is the estimate, followed by the 95% confidence interval\n",
            "with a sample size of 2000: (3.146, (3.1100814023547687, 3.181918597645231))\n",
            "Displayed is the estimate, followed by the 95% confidence interval\n",
            "with a sample size of 4000: (3.182, (3.157000989467581, 3.206999010532419))\n",
            "Displayed is the estimate, followed by the 95% confidence interval\n",
            "with a sample size of 8000: (3.17, (3.152227449395205, 3.187772550604795))\n"
          ]
        }
      ],
      "source": [
        "# allows us to generate random numbers and make random selections\n",
        "import random\n",
        "\n",
        "# defines a function called monte_carlo_pi which takes one\n",
        "# argument, n, which is the sample size\n",
        "def monte_carlo_pi(n):\n",
        "\n",
        "    # initializes a variable to keep track of the number of points\n",
        "    #  that fall inside the unit circle\n",
        "    inside = 0\n",
        "\n",
        "    # starts a for loop that will run n times\n",
        "    for i in range(n):\n",
        "        # generates a random float number between -1 and 1 and assigns \n",
        "        # it to the variable x and y.\n",
        "        x = random.uniform(-1, 1)\n",
        "        y = random.uniform(-1, 1)\n",
        "\n",
        "        # checks if the point (x, y) falls within the unit circle. \n",
        "        # If it does, increment the \"inside\" variable by 1\n",
        "        if x**2 + y**2 <= 1:\n",
        "            inside += 1\n",
        "    \n",
        "    # estimates pi by calculating the ratio of points inside the unit circle\n",
        "    # to the total number of points generated. The result is multiplied by 4 \n",
        "    # to account for the quarter of the unit circle that is being approximated.        \n",
        "    pi_estimate = 4 * inside / n\n",
        "\n",
        "    # calculates the standard deviation of the pi estimate, and multiply by \n",
        "    # 1.96 which corresponds to the 95% of confidence interval.\n",
        "    pi_error = 1.96 * (4 * inside / n * (1 - inside / n) / n)**0.5\n",
        "\n",
        "    # returns the estimate of pi and the 95% confidence interval as a tuple.\n",
        "    return pi_estimate, (pi_estimate - pi_error, pi_estimate + pi_error)\n",
        "\n",
        "print(\"Displayed is the estimate, followed by the 95% confidence interval\")\n",
        "print(\"with a sample size of 1000:\", monte_carlo_pi(1000))\n",
        "print(\"Displayed is the estimate, followed by the 95% confidence interval\")\n",
        "print(\"with a sample size of 2000:\", monte_carlo_pi(2000))\n",
        "print(\"Displayed is the estimate, followed by the 95% confidence interval\")\n",
        "print(\"with a sample size of 4000:\", monte_carlo_pi(4000))\n",
        "print(\"Displayed is the estimate, followed by the 95% confidence interval\")\n",
        "print(\"with a sample size of 8000:\", monte_carlo_pi(8000))"
      ]
    }
  ],
  "metadata": {
    "kernelspec": {
      "display_name": "Python 3",
      "language": "python",
      "name": "python3"
    },
    "language_info": {
      "name": "python",
      "version": "3.10.4 (v3.10.4:9d38120e33, Mar 23 2022, 17:29:05) [Clang 13.0.0 (clang-1300.0.29.30)]"
    },
    "vscode": {
      "interpreter": {
        "hash": "aee8b7b246df8f9039afb4144a1f6fd8d2ca17a180786b69acc140d282b71a49"
      }
    }
  },
  "nbformat": 4,
  "nbformat_minor": 5
}
