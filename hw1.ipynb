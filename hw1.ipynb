{
  "cells": [
    {
      "cell_type": "raw",
      "id": "11299cf7",
      "metadata": {},
      "source": [
        "---\n",
        "title: Homework 1\n",
        "author: Giovanni Lunetta\n",
        "date: 'January 30, 2023'\n",
        "format:\n",
        "  html:\n",
        "    code-fold: true\n",
        "  pdf:\n",
        "    geometry:\n",
        "      - top=30mm\n",
        "      - left=20mm\n",
        "---"
      ]
    },
    {
      "cell_type": "markdown",
      "id": "bb4d0c9a",
      "metadata": {},
      "source": [
        "# Exercise 3\n",
        "Monty Hall problem through simulation.\n"
      ]
    },
    {
      "cell_type": "code",
      "execution_count": 5,
      "id": "76a89d63",
      "metadata": {
        "vscode": {
          "languageId": "python"
        }
      },
      "outputs": [
        {
          "name": "stdout",
          "output_type": "stream",
          "text": [
            "When there are three doors, switching the door is the correct choice 67.7\n",
            "percent of the time and the wrong choice 32.3 percent of the time.\n",
            "\n",
            "When there are five doors, switching the door is the correct choice 79.4\n",
            "percent of the time and the wrong choice 20.599999999999994 percent of the time.\n"
          ]
        }
      ],
      "source": [
        "# allows us to generate random numbers and make random selections\n",
        "import random\n",
        "\n",
        "# defines a function called monty_hall which takes two\n",
        "# arguments. ndoors represents the number of doors in the\n",
        "# experiment while ntrials represents the number of trials\n",
        "# in the simulation.\n",
        "def monty_hall(ndoors, ntrials):\n",
        "    \n",
        "    # initialze two variables to keep track of the number of wins\n",
        "    switch_wins = 0\n",
        "    no_switch_wins = 0\n",
        "    \n",
        "    # this for loop runs for ntrials\n",
        "    for i in range(ntrials):\n",
        "\n",
        "        # creates a list containing ndoors from 0 to ndoors-1 doors\n",
        "        doors = [i for i in range(ndoors)]\n",
        "\n",
        "        # randomly chooses one of these ndoors and assigns it to car\n",
        "        # this variable will represent the door with the car behind it\n",
        "        car = random.choice(doors)\n",
        "\n",
        "        # randomly chooses one of these ndoors and assigns it to choice \n",
        "        # this variable will represent the door that the contestant initially \n",
        "        # chooses\n",
        "        choice = random.choice(doors)\n",
        "\n",
        "        # checks if the door the contestant initially chose is the door with the\n",
        "        # car behind it. If it is, the no-switch strategy wins, otherwise the \n",
        "        # switch strategy wins\n",
        "        if choice == car:\n",
        "            no_switch_wins += 1\n",
        "        else:\n",
        "            switch_wins += 1\n",
        "    \n",
        "    # returns the proportion of wins for switch\n",
        "    return switch_wins/ntrials\n",
        "\n",
        "# stores the percentages in two different variables\n",
        "win3 = monty_hall(3, 1000)*100\n",
        "win5 = monty_hall(5, 1000)*100\n",
        "\n",
        "print(\"When there are three doors, switching the door is the correct choice\", win3)\n",
        "print(\"percent of the time and the wrong choice\", 100-win3, \"percent of the time.\\n\")\n",
        "print(\"When there are five doors, switching the door is the correct choice\", win5)\n",
        "print(\"percent of the time and the wrong choice\", 100-win5, \"percent of the time.\")"
      ]
    }
  ],
  "metadata": {
    "kernelspec": {
      "display_name": "Python 3 (ipykernel)",
      "language": "python",
      "name": "python3"
    }
  },
  "nbformat": 4,
  "nbformat_minor": 5
}
