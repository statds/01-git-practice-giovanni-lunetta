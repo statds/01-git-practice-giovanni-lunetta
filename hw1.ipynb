{
  "cells": [
    {
      "cell_type": "raw",
      "id": "ec814a64",
      "metadata": {},
      "source": [
        "---\n",
        "title: Homework 1\n",
        "author: Giovanni Lunetta\n",
        "date: 'January 30, 2023'\n",
        "format:\n",
        "  html:\n",
        "    code-fold: true\n",
        "  pdf:\n",
        "    geometry:\n",
        "      - top=30mm\n",
        "      - left=20mm\n",
        "---"
      ]
    },
    {
      "cell_type": "markdown",
      "id": "c6536ca0",
      "metadata": {},
      "source": [
        "# Exercise 3\n",
        "Monty Hall problem through simulation.\n"
      ]
    },
    {
      "cell_type": "code",
      "execution_count": 1,
      "id": "10264c35",
      "metadata": {},
      "outputs": [
        {
          "name": "stdout",
          "output_type": "stream",
          "text": [
            "When there are three doors, switching the door is the correct choice 66.4\n",
            "percent of the time and the wrong choice 33.599999999999994 percent of the time.\n",
            "\n",
            "When there are five doors, switching the door is the correct choice 80.0\n",
            "percent of the time and the wrong choice 20.0 percent of the time.\n"
          ]
        }
      ],
      "source": [
        "# allows us to generate random numbers and make random selections\n",
        "import random\n",
        "\n",
        "# defines a function called monty_hall which takes two\n",
        "# arguments. ndoors represents the number of doors in the\n",
        "# experiment while ntrials represents the number of trials\n",
        "# in the simulation.\n",
        "def monty_hall(ndoors, ntrials):\n",
        "    \n",
        "    # initialze two variables to keep track of the number of wins\n",
        "    switch_wins = 0\n",
        "    no_switch_wins = 0\n",
        "    \n",
        "    # this for loop runs for ntrials\n",
        "    for i in range(ntrials):\n",
        "\n",
        "        # creates a list containing ndoors from 0 to ndoors-1 doors\n",
        "        doors = [i for i in range(ndoors)]\n",
        "\n",
        "        # randomly chooses one of these ndoors and assigns it to car\n",
        "        # this variable will represent the door with the car behind it\n",
        "        car = random.choice(doors)\n",
        "\n",
        "        # randomly chooses one of these ndoors and assigns it to choice \n",
        "        # this variable will represent the door that the contestant initially \n",
        "        # chooses\n",
        "        choice = random.choice(doors)\n",
        "\n",
        "        # checks if the door the contestant initially chose is the door with the\n",
        "        # car behind it. If it is, the no-switch strategy wins, otherwise the \n",
        "        # switch strategy wins\n",
        "        if choice == car:\n",
        "            no_switch_wins += 1\n",
        "        else:\n",
        "            switch_wins += 1\n",
        "    \n",
        "    # returns the proportion of wins for switch\n",
        "    return switch_wins/ntrials\n",
        "\n",
        "# stores the percentages in two different variables\n",
        "win3 = monty_hall(3, 1000)*100\n",
        "win5 = monty_hall(5, 1000)*100\n",
        "\n",
        "print(\"When there are three doors, switching the door is the correct choice\", win3)\n",
        "print(\"percent of the time and the wrong choice\", 100-win3, \"percent of the time.\\n\")\n",
        "print(\"When there are five doors, switching the door is the correct choice\", win5)\n",
        "print(\"percent of the time and the wrong choice\", 100-win5, \"percent of the time.\")"
      ]
    },
    {
      "cell_type": "markdown",
      "id": "4ef8583a",
      "metadata": {},
      "source": [
        "# Exercise 4\n",
        "Monte Carlo approximation of pi."
      ]
    },
    {
      "cell_type": "code",
      "execution_count": 2,
      "id": "de87c652",
      "metadata": {},
      "outputs": [
        {
          "name": "stdout",
          "output_type": "stream",
          "text": [
            "Displayed is the estimate, followed by the 95% confidence interval\n",
            "with a sample size of 1000: (3.216, (3.1667912733592916, 3.265208726640709))\n",
            "Displayed is the estimate, followed by the 95% confidence interval\n",
            "with a sample size of 2000: (3.144, (3.108050800109043, 3.1799491998909573))\n",
            "Displayed is the estimate, followed by the 95% confidence interval\n",
            "with a sample size of 4000: (3.099, (3.0731077814797576, 3.124892218520243))\n",
            "Displayed is the estimate, followed by the 95% confidence interval\n",
            "with a sample size of 8000: (3.1535, (3.1355984357698135, 3.171401564230187))\n"
          ]
        }
      ],
      "source": [
        "# allows us to generate random numbers and make random selections\n",
        "import random\n",
        "\n",
        "# defines a function called monte_carlo_pi which takes one\n",
        "# argument, n, which is the sample size\n",
        "def monte_carlo_pi(n):\n",
        "\n",
        "    # initializes a variable to keep track of the number of points\n",
        "    #  that fall inside the unit circle\n",
        "    inside = 0\n",
        "\n",
        "    # starts a for loop that will run n times\n",
        "    for i in range(n):\n",
        "        # generates a random float number between -1 and 1 and assigns \n",
        "        # it to the variable x and y.\n",
        "        x = random.uniform(-1, 1)\n",
        "        y = random.uniform(-1, 1)\n",
        "\n",
        "        # checks if the point (x, y) falls within the unit circle. \n",
        "        # If it does, increment the \"inside\" variable by 1\n",
        "        if x**2 + y**2 <= 1:\n",
        "            inside += 1\n",
        "    \n",
        "    # estimates pi by calculating the ratio of points inside the unit circle\n",
        "    # to the total number of points generated. The result is multiplied by 4 \n",
        "    # to account for the quarter of the unit circle that is being approximated.        \n",
        "    pi_estimate = 4 * inside / n\n",
        "\n",
        "    # calculates the standard deviation of the pi estimate, and multiply by \n",
        "    # 1.96 which corresponds to the 95% of confidence interval.\n",
        "    pi_error = 1.96 * (4 * inside / n * (1 - inside / n) / n)**0.5\n",
        "\n",
        "    # returns the estimate of pi and the 95% confidence interval as a tuple.\n",
        "    return pi_estimate, (pi_estimate - pi_error, pi_estimate + pi_error)\n",
        "\n",
        "print(\"Displayed is the estimate, followed by the 95% confidence interval\")\n",
        "print(\"with a sample size of 1000:\", monte_carlo_pi(1000))\n",
        "print(\"Displayed is the estimate, followed by the 95% confidence interval\")\n",
        "print(\"with a sample size of 2000:\", monte_carlo_pi(2000))\n",
        "print(\"Displayed is the estimate, followed by the 95% confidence interval\")\n",
        "print(\"with a sample size of 4000:\", monte_carlo_pi(4000))\n",
        "print(\"Displayed is the estimate, followed by the 95% confidence interval\")\n",
        "print(\"with a sample size of 8000:\", monte_carlo_pi(8000))"
      ]
    },
    {
      "cell_type": "markdown",
      "id": "f67cabd7",
      "metadata": {},
      "source": [
        "# Exercise 5\n",
        "Find the first 10-digit prime number occurring in consecutive digits of pi."
      ]
    },
    {
      "cell_type": "code",
      "execution_count": 3,
      "id": "f7ff664d",
      "metadata": {},
      "outputs": [
        {
          "name": "stdout",
          "output_type": "stream",
          "text": [
            "7427466391\n",
            "Help from:\n",
            "https://stackoverflow.com/\n",
            "https://math.stackexchange.com/\n"
          ]
        }
      ],
      "source": [
        "# importing these libraries allows us to use arbitrary-precision decimal \n",
        "# arithmetic and prime numbers\n",
        "import decimal\n",
        "from sympy import *\n",
        "\n",
        "# defines the proper function\n",
        "def find_10_digit_prime_in_e():\n",
        "\n",
        "    # sets the precision of the decimal module to 10000, \n",
        "    # meaning that we will be working with 10000 decimal digits of e\n",
        "    decimal.getcontext().prec = 10000\n",
        "\n",
        "    # use the built-in function in python's decimal module to compute\n",
        "    #  the value of e and store it in a variable e\n",
        "    e = decimal.Decimal(1).exp()\n",
        "\n",
        "    # convert the value of e to a string\n",
        "    e = str(e)\n",
        "\n",
        "    # remove the decimal point from the string representation of e\n",
        "    e = e.replace(\".\", \"\")\n",
        "\n",
        "    # starts a for loop that will run once for each possible starting \n",
        "    # index of a 10-digit sequence in the string e\n",
        "    for i in range(len(e) - 10):\n",
        "\n",
        "        # creates a variable named num that is set \n",
        "        # to the 10-digit sequence\n",
        "        # starting at index i of the string e\n",
        "        num = int(e[i:i+10])\n",
        "\n",
        "        # if the number is prime it returns the number\n",
        "        if isprime(num):\n",
        "            return num\n",
        "\n",
        "print(find_10_digit_prime_in_e())\n",
        "print(\"Help from:\")\n",
        "print(\"https://stackoverflow.com/\")\n",
        "print(\"https://math.stackexchange.com/\")"
      ]
    }
  ],
  "metadata": {
    "kernelspec": {
      "display_name": "Python 3",
      "language": "python",
      "name": "python3"
    },
    "language_info": {
      "codemirror_mode": {
        "name": "ipython",
        "version": 3
      },
      "file_extension": ".py",
      "mimetype": "text/x-python",
      "name": "python",
      "nbconvert_exporter": "python",
      "pygments_lexer": "ipython3",
      "version": "3.10.4"
    },
    "vscode": {
      "interpreter": {
        "hash": "aee8b7b246df8f9039afb4144a1f6fd8d2ca17a180786b69acc140d282b71a49"
      }
    }
  },
  "nbformat": 4,
  "nbformat_minor": 5
}
